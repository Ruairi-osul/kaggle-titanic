{
 "metadata": {
  "language_info": {
   "codemirror_mode": {
    "name": "ipython",
    "version": 3
   },
   "file_extension": ".py",
   "mimetype": "text/x-python",
   "name": "python",
   "nbconvert_exporter": "python",
   "pygments_lexer": "ipython3",
   "version": "3.9.5"
  },
  "orig_nbformat": 2,
  "kernelspec": {
   "name": "python395jvsc74a57bd0796dea60d1107bc803afc2928c976ba16a2547a903166c8d20b927038ddc0403",
   "display_name": "Python 3.9.5 64-bit ('kaggle': conda)"
  }
 },
 "nbformat": 4,
 "nbformat_minor": 2,
 "cells": [
  {
   "cell_type": "code",
   "execution_count": 21,
   "metadata": {},
   "outputs": [],
   "source": [
    "import matplotlib.pyplot as plt\n",
    "import pandas as pd\n",
    "from sklearn.model_selection import train_test_split\n",
    "from pathlib import Path\n",
    "import sys\n",
    "sys.path.append(\"..\")\n",
    "from utils import ColumnSelector, ColumnDropper, DTypeTransformer\n",
    "from sklearn.compose import ColumnTransformer, make_column_selector\n",
    "from sklearn.pipeline import Pipeline\n",
    "from sklearn.preprocessing import OneHotEncoder, OrdinalEncoder, StandardScaler\n",
    "from sklearn.impute import SimpleImputer\n",
    "import numpy as np"
   ]
  },
  {
   "cell_type": "code",
   "execution_count": 2,
   "metadata": {},
   "outputs": [],
   "source": [
    "data_dir = Path(\".\").absolute().parent / \"data\"\n",
    "data = pd.read_csv(data_dir / \"train.csv\")\n",
    "X = data[[c for c in data.columns if c != \"Survived\"]]\n",
    "y = data[[\"Survived\"]]\n",
    "X_train, X_test, y_train, y_test = train_test_split(X, y)"
   ]
  },
  {
   "cell_type": "code",
   "execution_count": 35,
   "metadata": {},
   "outputs": [
    {
     "output_type": "execute_result",
     "data": {
      "text/plain": [
       "array([3, 1, 2])"
      ]
     },
     "metadata": {},
     "execution_count": 35
    }
   ],
   "source": [
    "X.Pclass.unique()"
   ]
  },
  {
   "source": [
    "### steps\n",
    "\n",
    "- select columns\n",
    "- set dtypes\n",
    "- encode\n",
    "- scale\n",
    "- impute\n",
    "- model"
   ],
   "cell_type": "markdown",
   "metadata": {}
  },
  {
   "cell_type": "code",
   "execution_count": 39,
   "metadata": {},
   "outputs": [],
   "source": [
    "NUM_COLS = [\"Fare\", \"Age\"]\n",
    "NOM_COLS = [\"Sex\", \"Embarked\"]\n",
    "ORD_COLS = [\"Pclass\"]\n",
    "ALL_COLS = NUM_COLS + NOM_COLS + ORD_COLS \n",
    "\n",
    "# select columns\n",
    "c_selector = ColumnSelector(ALL_COLS)\n",
    "\n",
    "# nominal_pipeline\n",
    "nom_pipe = Pipeline([\n",
    "    (\"impute\", SimpleImputer(strategy=\"most_frequent\")),\n",
    "    (\"encode\", OneHotEncoder(handle_unknown=\"ignore\")),\n",
    "])\n",
    "\n",
    "# ordinal_pipeline\n",
    "ord_pipe = Pipeline([\n",
    "    (\"encode\", OrdinalEncoder(categories=[[1, 2, 3,]])),\n",
    "    (\"impute\", SimpleImputer(strategy=\"most_frequent\")),\n",
    "])\n",
    "\n",
    "# numeric pipeline\n",
    "num_pipe = Pipeline([\n",
    "    (\"scaler\", StandardScaler()),\n",
    "    (\"impute\", SimpleImputer(strategy=\"median\")),\n",
    "])\n",
    "\n",
    "preprocessor = ColumnTransformer(\n",
    "    [(\"nom\", nom_pipe, NOM_COLS),\n",
    "    (\"ord\", ord_pipe, ORD_COLS),\n",
    "    (\"num\", num_pipe, NUM_COLS)],\n",
    ")\n",
    "\n",
    "pipe = Pipeline([\n",
    "    (\"col_select\", c_selector),\n",
    "    (\"preprocess\", preprocessor)\n",
    "    ])\n"
   ]
  },
  {
   "cell_type": "code",
   "execution_count": 37,
   "metadata": {},
   "outputs": [
    {
     "output_type": "stream",
     "text": [
      "\u001b[0;31mInit signature:\u001b[0m\n",
      "\u001b[0mOrdinalEncoder\u001b[0m\u001b[0;34m(\u001b[0m\u001b[0;34m\u001b[0m\n",
      "\u001b[0;34m\u001b[0m    \u001b[0;34m*\u001b[0m\u001b[0;34m,\u001b[0m\u001b[0;34m\u001b[0m\n",
      "\u001b[0;34m\u001b[0m    \u001b[0mcategories\u001b[0m\u001b[0;34m=\u001b[0m\u001b[0;34m'auto'\u001b[0m\u001b[0;34m,\u001b[0m\u001b[0;34m\u001b[0m\n",
      "\u001b[0;34m\u001b[0m    \u001b[0mdtype\u001b[0m\u001b[0;34m=\u001b[0m\u001b[0;34m<\u001b[0m\u001b[0;32mclass\u001b[0m \u001b[0;34m'numpy.float64'\u001b[0m\u001b[0;34m>\u001b[0m\u001b[0;34m,\u001b[0m\u001b[0;34m\u001b[0m\n",
      "\u001b[0;34m\u001b[0m    \u001b[0mhandle_unknown\u001b[0m\u001b[0;34m=\u001b[0m\u001b[0;34m'error'\u001b[0m\u001b[0;34m,\u001b[0m\u001b[0;34m\u001b[0m\n",
      "\u001b[0;34m\u001b[0m    \u001b[0munknown_value\u001b[0m\u001b[0;34m=\u001b[0m\u001b[0;32mNone\u001b[0m\u001b[0;34m,\u001b[0m\u001b[0;34m\u001b[0m\n",
      "\u001b[0;34m\u001b[0m\u001b[0;34m)\u001b[0m\u001b[0;34m\u001b[0m\u001b[0;34m\u001b[0m\u001b[0m\n",
      "\u001b[0;31mDocstring:\u001b[0m     \n",
      "Encode categorical features as an integer array.\n",
      "\n",
      "The input to this transformer should be an array-like of integers or\n",
      "strings, denoting the values taken on by categorical (discrete) features.\n",
      "The features are converted to ordinal integers. This results in\n",
      "a single column of integers (0 to n_categories - 1) per feature.\n",
      "\n",
      "Read more in the :ref:`User Guide <preprocessing_categorical_features>`.\n",
      "\n",
      ".. versionadded:: 0.20\n",
      "\n",
      "Parameters\n",
      "----------\n",
      "categories : 'auto' or a list of array-like, default='auto'\n",
      "    Categories (unique values) per feature:\n",
      "\n",
      "    - 'auto' : Determine categories automatically from the training data.\n",
      "    - list : ``categories[i]`` holds the categories expected in the ith\n",
      "      column. The passed categories should not mix strings and numeric\n",
      "      values, and should be sorted in case of numeric values.\n",
      "\n",
      "    The used categories can be found in the ``categories_`` attribute.\n",
      "\n",
      "dtype : number type, default np.float64\n",
      "    Desired dtype of output.\n",
      "\n",
      "handle_unknown : {'error', 'use_encoded_value'}, default='error'\n",
      "    When set to 'error' an error will be raised in case an unknown\n",
      "    categorical feature is present during transform. When set to\n",
      "    'use_encoded_value', the encoded value of unknown categories will be\n",
      "    set to the value given for the parameter `unknown_value`. In\n",
      "    :meth:`inverse_transform`, an unknown category will be denoted as None.\n",
      "\n",
      "    .. versionadded:: 0.24\n",
      "\n",
      "unknown_value : int or np.nan, default=None\n",
      "    When the parameter handle_unknown is set to 'use_encoded_value', this\n",
      "    parameter is required and will set the encoded value of unknown\n",
      "    categories. It has to be distinct from the values used to encode any of\n",
      "    the categories in `fit`. If set to np.nan, the `dtype` parameter must\n",
      "    be a float dtype.\n",
      "\n",
      "    .. versionadded:: 0.24\n",
      "\n",
      "Attributes\n",
      "----------\n",
      "categories_ : list of arrays\n",
      "    The categories of each feature determined during ``fit`` (in order of\n",
      "    the features in X and corresponding with the output of ``transform``).\n",
      "    This does not include categories that weren't seen during ``fit``.\n",
      "\n",
      "See Also\n",
      "--------\n",
      "OneHotEncoder : Performs a one-hot encoding of categorical features.\n",
      "LabelEncoder : Encodes target labels with values between 0 and\n",
      "    ``n_classes-1``.\n",
      "\n",
      "Examples\n",
      "--------\n",
      "Given a dataset with two features, we let the encoder find the unique\n",
      "values per feature and transform the data to an ordinal encoding.\n",
      "\n",
      ">>> from sklearn.preprocessing import OrdinalEncoder\n",
      ">>> enc = OrdinalEncoder()\n",
      ">>> X = [['Male', 1], ['Female', 3], ['Female', 2]]\n",
      ">>> enc.fit(X)\n",
      "OrdinalEncoder()\n",
      ">>> enc.categories_\n",
      "[array(['Female', 'Male'], dtype=object), array([1, 2, 3], dtype=object)]\n",
      ">>> enc.transform([['Female', 3], ['Male', 1]])\n",
      "array([[0., 2.],\n",
      "       [1., 0.]])\n",
      "\n",
      ">>> enc.inverse_transform([[1, 0], [0, 1]])\n",
      "array([['Male', 1],\n",
      "       ['Female', 2]], dtype=object)\n",
      "\u001b[0;31mFile:\u001b[0m           ~/miniconda3/envs/kaggle/lib/python3.9/site-packages/sklearn/preprocessing/_encoders.py\n",
      "\u001b[0;31mType:\u001b[0m           type\n",
      "\u001b[0;31mSubclasses:\u001b[0m     \n"
     ],
     "name": "stdout"
    }
   ],
   "source": [
    "?OrdinalEncoder"
   ]
  },
  {
   "cell_type": "code",
   "execution_count": null,
   "metadata": {},
   "outputs": [],
   "source": []
  }
 ]
}